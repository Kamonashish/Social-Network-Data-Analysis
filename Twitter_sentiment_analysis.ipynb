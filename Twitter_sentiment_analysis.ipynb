{
  "nbformat": 4,
  "nbformat_minor": 0,
  "metadata": {
    "kernelspec": {
      "display_name": "Python 3",
      "language": "python",
      "name": "python3"
    },
    "language_info": {
      "codemirror_mode": {
        "name": "ipython",
        "version": 3
      },
      "file_extension": ".py",
      "mimetype": "text/x-python",
      "name": "python",
      "nbconvert_exporter": "python",
      "pygments_lexer": "ipython3",
      "version": "3.7.6"
    },
    "colab": {
      "provenance": []
    }
  },
  "cells": [
    {
      "cell_type": "code",
      "metadata": {
        "id": "-o2fwx9iCJRJ"
      },
      "source": [
        "# 1. Import Libraries\n",
        "\n",
        "import pandas as pd\n",
        "import numpy as np\n",
        "import matplotlib.pyplot as plt\n",
        "import seaborn as sns\n",
        "\n",
        "import tweepy\n",
        "from tweepy import OAuthHandler"
      ],
      "execution_count": null,
      "outputs": []
    },
    {
      "cell_type": "code",
      "metadata": {
        "id": "mdDTZ1GHCJRK"
      },
      "source": [
        "# 2.Set Connecion\n",
        "\n",
        "#Get from developers.twitter.com/App->Setting->keys&tokens\n",
        "#Just assign the credentials\n",
        "\n",
        "consumer_key = \"PykNKbumwmbB6iJcwfwLsGhHf\"\n",
        "consumer_secret = \"RW5eXvMFQGTtinoipkpjTMNow3zPa8k4j3ZGM7sFTRqaMOHRxr\"\n",
        "access_token = \"1369738466267779072-6H3Uf3KUTdBtcYWiC03iRXaazP1OAe\"\n",
        "access_token_secret = \"CTnv9tePzyAlQqqB5L6qOooTaM6hHoJ7o8F3N3O5XT4Lu\"\n",
        "\n",
        "\n",
        "\n",
        "# Use the above credentials to authenticate the API.\n",
        "\n",
        "auth = tweepy.OAuthHandler( consumer_key , consumer_secret )\n",
        "auth.set_access_token( access_token , access_token_secret )\n",
        "api = tweepy.API(auth)"
      ],
      "execution_count": null,
      "outputs": []
    },
    {
      "cell_type": "code",
      "metadata": {
        "colab": {
          "base_uri": "https://localhost:8080/"
        },
        "id": "YXQwBsWmCJRL",
        "outputId": "4ea78731-99c2-4755-ea1e-335e267f6ad0"
      },
      "source": [
        "# 3.To get the tweets in a Proper format, first lets create a Dataframe to store the extracted data.\n",
        "\n",
        "df = pd.DataFrame(columns=[\"Date\",\"User\",\"IsVerified\",\"Tweet\",\"Likes\",\"RT\",'User_location'])\n",
        "print(df)"
      ],
      "execution_count": null,
      "outputs": [
        {
          "output_type": "stream",
          "text": [
            "Empty DataFrame\n",
            "Columns: [Date, User, IsVerified, Tweet, Likes, RT, User_location]\n",
            "Index: []\n"
          ],
          "name": "stdout"
        }
      ]
    },
    {
      "cell_type": "code",
      "metadata": {
        "id": "4BQ0iFFwCJRM"
      },
      "source": [
        "# We will use api as api.search inside this tweepy cursor."
      ],
      "execution_count": null,
      "outputs": []
    },
    {
      "cell_type": "code",
      "metadata": {
        "id": "G1hcWugRCJRM"
      },
      "source": [
        "# 4.Write a Function to extract tweets:\n",
        "\n",
        "# We will Use **tweepy.cursor()** because we want to extract a larger number of tweets i.e over 100,500 etc\n",
        "\n",
        "\n",
        "def get_tweets(Topic,Count):    \n",
        "    i=0\n",
        "    for tweet in tweepy.Cursor(api.search, q=Topic,count=100, lang=\"en\",exclude='retweets').items():\n",
        "        print(i, end='\\r')\n",
        "        df.loc[i,\"Date\"] = tweet.created_at\n",
        "        df.loc[i,\"User\"] = tweet.user.name\n",
        "        df.loc[i,\"IsVerified\"] = tweet.user.verified\n",
        "        df.loc[i,\"Tweet\"] = tweet.text\n",
        "        df.loc[i,\"Likes\"] = tweet.favorite_count\n",
        "        df.loc[i,\"RT\"] = tweet.retweet_count\n",
        "        df.loc[i,\"User_location\"] = tweet.user.location\n",
        "        #df.to_csv(\"TweetDataset.csv\",index=False)\n",
        "        #df.to_csv(\"My Drive\\SNA\\Trial\\data.csv\")\n",
        "        #df.to_csv( \"/SNA/trial/df.csv\", index=False, encoding='utf-8-sig')\n",
        "        \n",
        "        df.to_excel('{}.xlsx'.format(\"TweetDataset\"),index=False)   ## Save as Excel\n",
        "        i=i+1\n",
        "        if i>Count:\n",
        "            break\n",
        "        else:\n",
        "            pass"
      ],
      "execution_count": null,
      "outputs": []
    },
    {
      "cell_type": "code",
      "metadata": {
        "id": "_M5rJN1Q3R2I"
      },
      "source": [
        "#trying out-------mounting to drive\n",
        "#from google.colab import drive\n",
        "#drive.mount('drive')"
      ],
      "execution_count": null,
      "outputs": []
    },
    {
      "cell_type": "code",
      "metadata": {
        "id": "0Vu_FgWm3lWk"
      },
      "source": [
        "#Saving the file in CSV format in drive\n",
        "#df.to_csv('data1.csv')\n",
        "#!cp data.csv \"drive/My Drive/SNA/trial\""
      ],
      "execution_count": null,
      "outputs": []
    },
    {
      "cell_type": "code",
      "metadata": {
        "id": "mhW8zqsD-wtb"
      },
      "source": [
        "# Import Drive API and authenticate.\n",
        "from google.colab import drive\n"
      ],
      "execution_count": null,
      "outputs": []
    },
    {
      "cell_type": "code",
      "metadata": {
        "colab": {
          "base_uri": "https://localhost:8080/"
        },
        "id": "vp97HxQu-3Tj",
        "outputId": "ed5f4aa9-4ccb-4cd0-d881-532fb716ffef"
      },
      "source": [
        "# Mount your Drive to the Colab VM.\n",
        "drive.mount('/gdrive', force_remount=True)"
      ],
      "execution_count": null,
      "outputs": [
        {
          "output_type": "stream",
          "text": [
            "Mounted at /gdrive\n"
          ],
          "name": "stdout"
        }
      ]
    },
    {
      "cell_type": "markdown",
      "metadata": {
        "id": "smKogFFj8TUL"
      },
      "source": [
        "The following creates a new csv file storing the data \n"
      ]
    },
    {
      "cell_type": "code",
      "metadata": {
        "id": "elSVLoxC7CR0"
      },
      "source": [
        "# Write the DataFrame to CSV file.>>>>>>>>DATA DOESNT EXPORT AFTER THE FIRST TRY\n",
        "with open('/gdrive/My Drive/SNA/trial/d4.csv', 'w') as f:\n",
        "  df.to_csv(f)"
      ],
      "execution_count": null,
      "outputs": []
    },
    {
      "cell_type": "code",
      "metadata": {
        "colab": {
          "base_uri": "https://localhost:8080/",
          "height": 183
        },
        "id": "2XgCDH9sF-jK",
        "outputId": "edc57e6e-9a33-4dea-aa83-b557527ac076"
      },
      "source": [
        "df = pd.DataFrame(x)\n",
        "df.to_excel('filename.xlsx', sheet_name = 'New_sheet')"
      ],
      "execution_count": null,
      "outputs": [
        {
          "output_type": "error",
          "ename": "NameError",
          "evalue": "ignored",
          "traceback": [
            "\u001b[0;31m---------------------------------------------------------------------------\u001b[0m",
            "\u001b[0;31mNameError\u001b[0m                                 Traceback (most recent call last)",
            "\u001b[0;32m<ipython-input-335-20d555959f32>\u001b[0m in \u001b[0;36m<module>\u001b[0;34m()\u001b[0m\n\u001b[0;32m----> 1\u001b[0;31m \u001b[0mdf\u001b[0m \u001b[0;34m=\u001b[0m \u001b[0mpd\u001b[0m\u001b[0;34m.\u001b[0m\u001b[0mDataFrame\u001b[0m\u001b[0;34m(\u001b[0m\u001b[0mx\u001b[0m\u001b[0;34m)\u001b[0m\u001b[0;34m\u001b[0m\u001b[0;34m\u001b[0m\u001b[0m\n\u001b[0m\u001b[1;32m      2\u001b[0m \u001b[0mdf\u001b[0m\u001b[0;34m.\u001b[0m\u001b[0mto_excel\u001b[0m\u001b[0;34m(\u001b[0m\u001b[0;34m'filename.xlsx'\u001b[0m\u001b[0;34m,\u001b[0m \u001b[0msheet_name\u001b[0m \u001b[0;34m=\u001b[0m \u001b[0;34m'New_sheet'\u001b[0m\u001b[0;34m)\u001b[0m\u001b[0;34m\u001b[0m\u001b[0;34m\u001b[0m\u001b[0m\n",
            "\u001b[0;31mNameError\u001b[0m: name 'x' is not defined"
          ]
        }
      ]
    },
    {
      "cell_type": "code",
      "metadata": {
        "colab": {
          "base_uri": "https://localhost:8080/",
          "height": 17
        },
        "id": "9fYzLffr_gOu",
        "outputId": "fd6e3037-633c-40eb-95c4-2bb6f09eac9c"
      },
      "source": [
        "from google.colab import files\n",
        "files.download(\"data.csv\")"
      ],
      "execution_count": null,
      "outputs": [
        {
          "output_type": "display_data",
          "data": {
            "application/javascript": [
              "\n",
              "    async function download(id, filename, size) {\n",
              "      if (!google.colab.kernel.accessAllowed) {\n",
              "        return;\n",
              "      }\n",
              "      const div = document.createElement('div');\n",
              "      const label = document.createElement('label');\n",
              "      label.textContent = `Downloading \"${filename}\": `;\n",
              "      div.appendChild(label);\n",
              "      const progress = document.createElement('progress');\n",
              "      progress.max = size;\n",
              "      div.appendChild(progress);\n",
              "      document.body.appendChild(div);\n",
              "\n",
              "      const buffers = [];\n",
              "      let downloaded = 0;\n",
              "\n",
              "      const channel = await google.colab.kernel.comms.open(id);\n",
              "      // Send a message to notify the kernel that we're ready.\n",
              "      channel.send({})\n",
              "\n",
              "      for await (const message of channel.messages) {\n",
              "        // Send a message to notify the kernel that we're ready.\n",
              "        channel.send({})\n",
              "        if (message.buffers) {\n",
              "          for (const buffer of message.buffers) {\n",
              "            buffers.push(buffer);\n",
              "            downloaded += buffer.byteLength;\n",
              "            progress.value = downloaded;\n",
              "          }\n",
              "        }\n",
              "      }\n",
              "      const blob = new Blob(buffers, {type: 'application/binary'});\n",
              "      const a = document.createElement('a');\n",
              "      a.href = window.URL.createObjectURL(blob);\n",
              "      a.download = filename;\n",
              "      div.appendChild(a);\n",
              "      a.click();\n",
              "      div.remove();\n",
              "    }\n",
              "  "
            ],
            "text/plain": [
              "<IPython.core.display.Javascript object>"
            ]
          },
          "metadata": {
            "tags": []
          }
        },
        {
          "output_type": "display_data",
          "data": {
            "application/javascript": [
              "download(\"download_e7f1dd8f-b29d-4994-a364-95fd6673a652\", \"data.csv\", 28313)"
            ],
            "text/plain": [
              "<IPython.core.display.Javascript object>"
            ]
          },
          "metadata": {
            "tags": []
          }
        }
      ]
    },
    {
      "cell_type": "code",
      "metadata": {
        "colab": {
          "base_uri": "https://localhost:8080/"
        },
        "id": "VafJVOSECJRN",
        "outputId": "9065cb01-4812-43ef-eeb6-fc0284342efb"
      },
      "source": [
        "# Call the function to extract the data. pass the topic and filename you want the data to be stored in.\n",
        "Topic=[\"Football\"]\n",
        "get_tweets(Topic , Count=100)"
      ],
      "execution_count": null,
      "outputs": [
        {
          "output_type": "stream",
          "text": [
            ""
          ],
          "name": "stdout"
        }
      ]
    },
    {
      "cell_type": "code",
      "metadata": {
        "colab": {
          "base_uri": "https://localhost:8080/",
          "height": 415
        },
        "id": "vbxqIZu6-J1n",
        "outputId": "987fc39a-187c-4985-f519-4188cb8a3d50"
      },
      "source": [
        "df.head(100)"
      ],
      "execution_count": null,
      "outputs": [
        {
          "output_type": "execute_result",
          "data": {
            "text/html": [
              "<div>\n",
              "<style scoped>\n",
              "    .dataframe tbody tr th:only-of-type {\n",
              "        vertical-align: middle;\n",
              "    }\n",
              "\n",
              "    .dataframe tbody tr th {\n",
              "        vertical-align: top;\n",
              "    }\n",
              "\n",
              "    .dataframe thead th {\n",
              "        text-align: right;\n",
              "    }\n",
              "</style>\n",
              "<table border=\"1\" class=\"dataframe\">\n",
              "  <thead>\n",
              "    <tr style=\"text-align: right;\">\n",
              "      <th></th>\n",
              "      <th>Date</th>\n",
              "      <th>User</th>\n",
              "      <th>IsVerified</th>\n",
              "      <th>Tweet</th>\n",
              "      <th>Likes</th>\n",
              "      <th>RT</th>\n",
              "      <th>User_location</th>\n",
              "    </tr>\n",
              "  </thead>\n",
              "  <tbody>\n",
              "    <tr>\n",
              "      <th>0</th>\n",
              "      <td>2021-03-29 17:16:13</td>\n",
              "      <td>Margaret Kavanagh</td>\n",
              "      <td>True</td>\n",
              "      <td>'It's a parent's worst nightmare,' Norfolk Chr...</td>\n",
              "      <td>0</td>\n",
              "      <td>0</td>\n",
              "      <td>Norfolk, VA</td>\n",
              "    </tr>\n",
              "    <tr>\n",
              "      <th>1</th>\n",
              "      <td>2021-03-29 17:16:13</td>\n",
              "      <td>Leo🦇</td>\n",
              "      <td>False</td>\n",
              "      <td>@irealkamran @Parin_156 Nah he was probably a ...</td>\n",
              "      <td>0</td>\n",
              "      <td>0</td>\n",
              "      <td></td>\n",
              "    </tr>\n",
              "    <tr>\n",
              "      <th>2</th>\n",
              "      <td>2021-03-29 17:16:11</td>\n",
              "      <td>saswata nath</td>\n",
              "      <td>False</td>\n",
              "      <td>@IndianFootball Indian football team pl learn ...</td>\n",
              "      <td>0</td>\n",
              "      <td>0</td>\n",
              "      <td></td>\n",
              "    </tr>\n",
              "    <tr>\n",
              "      <th>3</th>\n",
              "      <td>2021-03-29 17:16:11</td>\n",
              "      <td>Gox</td>\n",
              "      <td>False</td>\n",
              "      <td>@FussballHussain Yeah, Lewa has turned into a ...</td>\n",
              "      <td>0</td>\n",
              "      <td>0</td>\n",
              "      <td></td>\n",
              "    </tr>\n",
              "    <tr>\n",
              "      <th>4</th>\n",
              "      <td>2021-03-29 17:16:10</td>\n",
              "      <td>Jae5 - Dimension OUT NOW!</td>\n",
              "      <td>False</td>\n",
              "      <td>Football is back tonight. I can cry.</td>\n",
              "      <td>0</td>\n",
              "      <td>0</td>\n",
              "      <td></td>\n",
              "    </tr>\n",
              "    <tr>\n",
              "      <th>...</th>\n",
              "      <td>...</td>\n",
              "      <td>...</td>\n",
              "      <td>...</td>\n",
              "      <td>...</td>\n",
              "      <td>...</td>\n",
              "      <td>...</td>\n",
              "      <td>...</td>\n",
              "    </tr>\n",
              "    <tr>\n",
              "      <th>95</th>\n",
              "      <td>2021-03-29 17:15:00</td>\n",
              "      <td>rohini</td>\n",
              "      <td>False</td>\n",
              "      <td>india football team lost 6-0 💔\\n🇮🇳❤️ heads up ...</td>\n",
              "      <td>5</td>\n",
              "      <td>0</td>\n",
              "      <td></td>\n",
              "    </tr>\n",
              "    <tr>\n",
              "      <th>96</th>\n",
              "      <td>2021-03-29 17:15:00</td>\n",
              "      <td>Hotoro oreki (Last seen Long Time Ago)</td>\n",
              "      <td>False</td>\n",
              "      <td>@IndianFootball Do you even care about Indian ...</td>\n",
              "      <td>1</td>\n",
              "      <td>0</td>\n",
              "      <td></td>\n",
              "    </tr>\n",
              "    <tr>\n",
              "      <th>97</th>\n",
              "      <td>2021-03-29 17:15:00</td>\n",
              "      <td>Aston Villa News</td>\n",
              "      <td>True</td>\n",
              "      <td>Oh Andy, oh Andy, you're the greatest, the Hol...</td>\n",
              "      <td>3</td>\n",
              "      <td>0</td>\n",
              "      <td>Birmingham</td>\n",
              "    </tr>\n",
              "    <tr>\n",
              "      <th>98</th>\n",
              "      <td>2021-03-29 17:15:00</td>\n",
              "      <td>The Chronicle</td>\n",
              "      <td>True</td>\n",
              "      <td>The warnings that Steve Bruce and #NUFC have i...</td>\n",
              "      <td>0</td>\n",
              "      <td>0</td>\n",
              "      <td>Newcastle upon Tyne</td>\n",
              "    </tr>\n",
              "    <tr>\n",
              "      <th>99</th>\n",
              "      <td>2021-03-29 17:15:00</td>\n",
              "      <td>Tribune-ReviewSports</td>\n",
              "      <td>True</td>\n",
              "      <td>According to Pro Football Focus, among the 99 ...</td>\n",
              "      <td>1</td>\n",
              "      <td>0</td>\n",
              "      <td>Pittsburgh</td>\n",
              "    </tr>\n",
              "  </tbody>\n",
              "</table>\n",
              "<p>100 rows × 7 columns</p>\n",
              "</div>"
            ],
            "text/plain": [
              "                   Date  ...        User_location\n",
              "0   2021-03-29 17:16:13  ...          Norfolk, VA\n",
              "1   2021-03-29 17:16:13  ...                     \n",
              "2   2021-03-29 17:16:11  ...                     \n",
              "3   2021-03-29 17:16:11  ...                     \n",
              "4   2021-03-29 17:16:10  ...                     \n",
              "..                  ...  ...                  ...\n",
              "95  2021-03-29 17:15:00  ...                     \n",
              "96  2021-03-29 17:15:00  ...                     \n",
              "97  2021-03-29 17:15:00  ...           Birmingham\n",
              "98  2021-03-29 17:15:00  ...  Newcastle upon Tyne\n",
              "99  2021-03-29 17:15:00  ...           Pittsburgh\n",
              "\n",
              "[100 rows x 7 columns]"
            ]
          },
          "metadata": {
            "tags": []
          },
          "execution_count": 320
        }
      ]
    },
    {
      "cell_type": "code",
      "metadata": {
        "colab": {
          "base_uri": "https://localhost:8080/"
        },
        "id": "rGyOk_8U9xUT",
        "outputId": "ced872be-39f4-446b-a25f-ada580c2ca52"
      },
      "source": [
        "Topic=[\"WWE\"]\n",
        "get_tweets(Topic , Count=100)"
      ],
      "execution_count": null,
      "outputs": [
        {
          "output_type": "stream",
          "text": [
            ""
          ],
          "name": "stdout"
        }
      ]
    },
    {
      "cell_type": "code",
      "metadata": {
        "colab": {
          "base_uri": "https://localhost:8080/",
          "height": 415
        },
        "id": "zLroIDdGCJRN",
        "outputId": "bb262bf0-0b9e-49fd-8cc2-55c1a91e756a"
      },
      "source": [
        "df.head(100)"
      ],
      "execution_count": null,
      "outputs": [
        {
          "output_type": "execute_result",
          "data": {
            "text/html": [
              "<div>\n",
              "<style scoped>\n",
              "    .dataframe tbody tr th:only-of-type {\n",
              "        vertical-align: middle;\n",
              "    }\n",
              "\n",
              "    .dataframe tbody tr th {\n",
              "        vertical-align: top;\n",
              "    }\n",
              "\n",
              "    .dataframe thead th {\n",
              "        text-align: right;\n",
              "    }\n",
              "</style>\n",
              "<table border=\"1\" class=\"dataframe\">\n",
              "  <thead>\n",
              "    <tr style=\"text-align: right;\">\n",
              "      <th></th>\n",
              "      <th>Date</th>\n",
              "      <th>User</th>\n",
              "      <th>IsVerified</th>\n",
              "      <th>Tweet</th>\n",
              "      <th>Likes</th>\n",
              "      <th>RT</th>\n",
              "      <th>User_location</th>\n",
              "    </tr>\n",
              "  </thead>\n",
              "  <tbody>\n",
              "    <tr>\n",
              "      <th>0</th>\n",
              "      <td>2021-03-29 17:16:24</td>\n",
              "      <td>Bennett 🏴‍☠️</td>\n",
              "      <td>False</td>\n",
              "      <td>@swagex_ @IamArenas @finnicksfitz @RheaRipley_...</td>\n",
              "      <td>0</td>\n",
              "      <td>0</td>\n",
              "      <td></td>\n",
              "    </tr>\n",
              "    <tr>\n",
              "      <th>1</th>\n",
              "      <td>2021-03-29 17:16:23</td>\n",
              "      <td>Ronin Zero 🤖🦁</td>\n",
              "      <td>False</td>\n",
              "      <td>@WWE @FOXSports @TherealRVD Well deserved</td>\n",
              "      <td>0</td>\n",
              "      <td>0</td>\n",
              "      <td>Lion's Den aka Pomona, Cali</td>\n",
              "    </tr>\n",
              "    <tr>\n",
              "      <th>2</th>\n",
              "      <td>2021-03-29 17:16:22</td>\n",
              "      <td>PWStream</td>\n",
              "      <td>False</td>\n",
              "      <td>RVD Reveals How He Found Out About WWE Hall Of...</td>\n",
              "      <td>0</td>\n",
              "      <td>0</td>\n",
              "      <td>United States</td>\n",
              "    </tr>\n",
              "    <tr>\n",
              "      <th>3</th>\n",
              "      <td>2021-03-29 17:16:21</td>\n",
              "      <td>👹👹</td>\n",
              "      <td>False</td>\n",
              "      <td>OMG THIS MF BE SPITTING FACTS BEEN SAYING THAT...</td>\n",
              "      <td>0</td>\n",
              "      <td>0</td>\n",
              "      <td></td>\n",
              "    </tr>\n",
              "    <tr>\n",
              "      <th>4</th>\n",
              "      <td>2021-03-29 17:16:21</td>\n",
              "      <td>Shaun</td>\n",
              "      <td>False</td>\n",
              "      <td>@BellasflairK2 And also, when your talking abo...</td>\n",
              "      <td>0</td>\n",
              "      <td>0</td>\n",
              "      <td>Little Rock</td>\n",
              "    </tr>\n",
              "    <tr>\n",
              "      <th>...</th>\n",
              "      <td>...</td>\n",
              "      <td>...</td>\n",
              "      <td>...</td>\n",
              "      <td>...</td>\n",
              "      <td>...</td>\n",
              "      <td>...</td>\n",
              "      <td>...</td>\n",
              "    </tr>\n",
              "    <tr>\n",
              "      <th>95</th>\n",
              "      <td>2021-03-29 17:12:16</td>\n",
              "      <td>janie</td>\n",
              "      <td>False</td>\n",
              "      <td>@AEW @Christian4Peeps @FrankieKazarian @tntdra...</td>\n",
              "      <td>3</td>\n",
              "      <td>0</td>\n",
              "      <td>Austin, Texas</td>\n",
              "    </tr>\n",
              "    <tr>\n",
              "      <th>96</th>\n",
              "      <td>2021-03-29 17:12:09</td>\n",
              "      <td>~Ttuck~</td>\n",
              "      <td>False</td>\n",
              "      <td>So WWE post these polls on YouTube about which...</td>\n",
              "      <td>0</td>\n",
              "      <td>0</td>\n",
              "      <td>Kentucky, USA</td>\n",
              "    </tr>\n",
              "    <tr>\n",
              "      <th>97</th>\n",
              "      <td>2021-03-29 17:12:07</td>\n",
              "      <td>@easyworldnews</td>\n",
              "      <td>False</td>\n",
              "      <td>Rob Van Dam Reveals Who Called Him About Hall ...</td>\n",
              "      <td>0</td>\n",
              "      <td>1</td>\n",
              "      <td>Global</td>\n",
              "    </tr>\n",
              "    <tr>\n",
              "      <th>98</th>\n",
              "      <td>2021-03-29 17:12:06</td>\n",
              "      <td>@easyworldnews</td>\n",
              "      <td>False</td>\n",
              "      <td>Andrade To Give First Post-WWE Interview Tonig...</td>\n",
              "      <td>0</td>\n",
              "      <td>1</td>\n",
              "      <td>Global</td>\n",
              "    </tr>\n",
              "    <tr>\n",
              "      <th>99</th>\n",
              "      <td>2021-03-29 17:12:05</td>\n",
              "      <td>@easyworldnews</td>\n",
              "      <td>False</td>\n",
              "      <td>Myron Reed Says He Was Nervous About Signing M...</td>\n",
              "      <td>0</td>\n",
              "      <td>1</td>\n",
              "      <td>Global</td>\n",
              "    </tr>\n",
              "  </tbody>\n",
              "</table>\n",
              "<p>100 rows × 7 columns</p>\n",
              "</div>"
            ],
            "text/plain": [
              "                   Date            User  ... RT                User_location\n",
              "0   2021-03-29 17:16:24    Bennett 🏴‍☠️  ...  0                             \n",
              "1   2021-03-29 17:16:23   Ronin Zero 🤖🦁  ...  0  Lion's Den aka Pomona, Cali\n",
              "2   2021-03-29 17:16:22        PWStream  ...  0                United States\n",
              "3   2021-03-29 17:16:21              👹👹  ...  0                             \n",
              "4   2021-03-29 17:16:21           Shaun  ...  0                  Little Rock\n",
              "..                  ...             ...  ... ..                          ...\n",
              "95  2021-03-29 17:12:16           janie  ...  0                Austin, Texas\n",
              "96  2021-03-29 17:12:09         ~Ttuck~  ...  0                Kentucky, USA\n",
              "97  2021-03-29 17:12:07  @easyworldnews  ...  1                       Global\n",
              "98  2021-03-29 17:12:06  @easyworldnews  ...  1                       Global\n",
              "99  2021-03-29 17:12:05  @easyworldnews  ...  1                       Global\n",
              "\n",
              "[100 rows x 7 columns]"
            ]
          },
          "metadata": {
            "tags": []
          },
          "execution_count": 322
        }
      ]
    },
    {
      "cell_type": "code",
      "metadata": {
        "id": "gFZXvL73CJRO"
      },
      "source": [
        "# Function to Clean the Tweet.\n",
        "\n",
        "import re\n",
        "def clean_tweet(tweet):\n",
        "    return ' '.join(re.sub('(@[A-Za-z0-9]+)|([^0-9A-Za-z \\t])|(\\w+:\\/\\/\\S+)|([RT])', ' ', str(tweet).lower()).split())\n",
        "\n",
        "# We only want the Text so :\n",
        "\n",
        "# (@[A-Za-z0-9]+)   : Delete Anything like @hello @Letsupgrade etc\n",
        "# ([^0-9A-Za-z \\t]) : Delete everything other than text,number,space,tabspace\n",
        "# (\\w+:\\/\\/\\S+)     : Delete https://\n",
        "# ([RT]) : Remove \"RT\" from the tweet"
      ],
      "execution_count": null,
      "outputs": []
    },
    {
      "cell_type": "code",
      "metadata": {
        "id": "_nVmR6vHCJRO"
      },
      "source": [
        "# Funciton to analyze Sentiment\n",
        "\n",
        "from textblob import TextBlob\n",
        "def analyze_sentiment(tweet):\n",
        "    analysis = TextBlob(tweet)\n",
        "    if analysis.sentiment.polarity > 0:\n",
        "        return 'Positive'\n",
        "    elif analysis.sentiment.polarity == 0:\n",
        "        return 'Neutral'\n",
        "    else:\n",
        "        return 'Negative'"
      ],
      "execution_count": null,
      "outputs": []
    },
    {
      "cell_type": "code",
      "metadata": {
        "id": "l_l-Sgms17Mf"
      },
      "source": [],
      "execution_count": null,
      "outputs": []
    },
    {
      "cell_type": "code",
      "metadata": {
        "id": "B4HenHFDCJRP"
      },
      "source": [
        "#Function to Pre-process data for Worlcloud:here we are removing the words present in Topic from the Corpus so they dont come in WordCloud.\n",
        "# Ex : Topic is \"Arsenal vs United\", we want to remove \"Arsenal\" \"vs\" \"United\" from the WordCloud.\n",
        "\n",
        "def prepCloud(Topic_text,Topic):\n",
        "    Topic = str(Topic).lower()\n",
        "    Topic=' '.join(re.sub('([^0-9A-Za-z \\t])', ' ', Topic).split())\n",
        "    Topic = re.split(\"\\s+\",str(Topic))\n",
        "    stopwords = set(STOPWORDS)\n",
        "    stopwords.update(Topic) ### Add our topic in Stopwords, so it doesnt appear in wordClous\n",
        "    ###\n",
        "    text_new = \" \".join([txt for txt in Topic_text.split() if txt not in stopwords])\n",
        "    return text_new"
      ],
      "execution_count": null,
      "outputs": []
    },
    {
      "cell_type": "code",
      "metadata": {
        "colab": {
          "base_uri": "https://localhost:8080/",
          "height": 289
        },
        "id": "XGCFNfGUCJRP",
        "outputId": "4f0e8854-791f-46c4-9ca9-a87382861e7b"
      },
      "source": [
        "# Call function to get Clean tweets\n",
        "\n",
        "df['clean_tweet'] = df['Tweet'].apply(lambda x : clean_tweet(x))\n",
        "df.head(5)"
      ],
      "execution_count": null,
      "outputs": [
        {
          "output_type": "execute_result",
          "data": {
            "text/html": [
              "<div>\n",
              "<style scoped>\n",
              "    .dataframe tbody tr th:only-of-type {\n",
              "        vertical-align: middle;\n",
              "    }\n",
              "\n",
              "    .dataframe tbody tr th {\n",
              "        vertical-align: top;\n",
              "    }\n",
              "\n",
              "    .dataframe thead th {\n",
              "        text-align: right;\n",
              "    }\n",
              "</style>\n",
              "<table border=\"1\" class=\"dataframe\">\n",
              "  <thead>\n",
              "    <tr style=\"text-align: right;\">\n",
              "      <th></th>\n",
              "      <th>Date</th>\n",
              "      <th>User</th>\n",
              "      <th>IsVerified</th>\n",
              "      <th>Tweet</th>\n",
              "      <th>Likes</th>\n",
              "      <th>RT</th>\n",
              "      <th>User_location</th>\n",
              "      <th>clean_tweet</th>\n",
              "    </tr>\n",
              "  </thead>\n",
              "  <tbody>\n",
              "    <tr>\n",
              "      <th>0</th>\n",
              "      <td>2021-03-29 17:16:24</td>\n",
              "      <td>Bennett 🏴‍☠️</td>\n",
              "      <td>False</td>\n",
              "      <td>@swagex_ @IamArenas @finnicksfitz @RheaRipley_...</td>\n",
              "      <td>0</td>\n",
              "      <td>0</td>\n",
              "      <td></td>\n",
              "      <td>wwe for telling the truth</td>\n",
              "    </tr>\n",
              "    <tr>\n",
              "      <th>1</th>\n",
              "      <td>2021-03-29 17:16:23</td>\n",
              "      <td>Ronin Zero 🤖🦁</td>\n",
              "      <td>False</td>\n",
              "      <td>@WWE @FOXSports @TherealRVD Well deserved</td>\n",
              "      <td>0</td>\n",
              "      <td>0</td>\n",
              "      <td>Lion's Den aka Pomona, Cali</td>\n",
              "      <td>well deserved</td>\n",
              "    </tr>\n",
              "    <tr>\n",
              "      <th>2</th>\n",
              "      <td>2021-03-29 17:16:22</td>\n",
              "      <td>PWStream</td>\n",
              "      <td>False</td>\n",
              "      <td>RVD Reveals How He Found Out About WWE Hall Of...</td>\n",
              "      <td>0</td>\n",
              "      <td>0</td>\n",
              "      <td>United States</td>\n",
              "      <td>rvd reveals how he found out about wwe hall of...</td>\n",
              "    </tr>\n",
              "    <tr>\n",
              "      <th>3</th>\n",
              "      <td>2021-03-29 17:16:21</td>\n",
              "      <td>👹👹</td>\n",
              "      <td>False</td>\n",
              "      <td>OMG THIS MF BE SPITTING FACTS BEEN SAYING THAT...</td>\n",
              "      <td>0</td>\n",
              "      <td>0</td>\n",
              "      <td></td>\n",
              "      <td>omg this mf be spitting facts been saying that...</td>\n",
              "    </tr>\n",
              "    <tr>\n",
              "      <th>4</th>\n",
              "      <td>2021-03-29 17:16:21</td>\n",
              "      <td>Shaun</td>\n",
              "      <td>False</td>\n",
              "      <td>@BellasflairK2 And also, when your talking abo...</td>\n",
              "      <td>0</td>\n",
              "      <td>0</td>\n",
              "      <td>Little Rock</td>\n",
              "      <td>and also when your talking about the greatest ...</td>\n",
              "    </tr>\n",
              "  </tbody>\n",
              "</table>\n",
              "</div>"
            ],
            "text/plain": [
              "                  Date  ...                                        clean_tweet\n",
              "0  2021-03-29 17:16:24  ...                          wwe for telling the truth\n",
              "1  2021-03-29 17:16:23  ...                                      well deserved\n",
              "2  2021-03-29 17:16:22  ...  rvd reveals how he found out about wwe hall of...\n",
              "3  2021-03-29 17:16:21  ...  omg this mf be spitting facts been saying that...\n",
              "4  2021-03-29 17:16:21  ...  and also when your talking about the greatest ...\n",
              "\n",
              "[5 rows x 8 columns]"
            ]
          },
          "metadata": {
            "tags": []
          },
          "execution_count": 326
        }
      ]
    },
    {
      "cell_type": "code",
      "metadata": {
        "colab": {
          "base_uri": "https://localhost:8080/",
          "height": 289
        },
        "id": "pcVPlKBDCJRP",
        "outputId": "24ee7fb4-2802-4ff8-cf80-881eac651733"
      },
      "source": [
        "# Call function to get the Sentiments\n",
        "\n",
        "df[\"Sentiment\"] = df[\"Tweet\"].apply(lambda x : analyze_sentiment(x))\n",
        "df.head(5)"
      ],
      "execution_count": null,
      "outputs": [
        {
          "output_type": "execute_result",
          "data": {
            "text/html": [
              "<div>\n",
              "<style scoped>\n",
              "    .dataframe tbody tr th:only-of-type {\n",
              "        vertical-align: middle;\n",
              "    }\n",
              "\n",
              "    .dataframe tbody tr th {\n",
              "        vertical-align: top;\n",
              "    }\n",
              "\n",
              "    .dataframe thead th {\n",
              "        text-align: right;\n",
              "    }\n",
              "</style>\n",
              "<table border=\"1\" class=\"dataframe\">\n",
              "  <thead>\n",
              "    <tr style=\"text-align: right;\">\n",
              "      <th></th>\n",
              "      <th>Date</th>\n",
              "      <th>User</th>\n",
              "      <th>IsVerified</th>\n",
              "      <th>Tweet</th>\n",
              "      <th>Likes</th>\n",
              "      <th>RT</th>\n",
              "      <th>User_location</th>\n",
              "      <th>clean_tweet</th>\n",
              "      <th>Sentiment</th>\n",
              "    </tr>\n",
              "  </thead>\n",
              "  <tbody>\n",
              "    <tr>\n",
              "      <th>0</th>\n",
              "      <td>2021-03-29 17:16:24</td>\n",
              "      <td>Bennett 🏴‍☠️</td>\n",
              "      <td>False</td>\n",
              "      <td>@swagex_ @IamArenas @finnicksfitz @RheaRipley_...</td>\n",
              "      <td>0</td>\n",
              "      <td>0</td>\n",
              "      <td></td>\n",
              "      <td>wwe for telling the truth</td>\n",
              "      <td>Neutral</td>\n",
              "    </tr>\n",
              "    <tr>\n",
              "      <th>1</th>\n",
              "      <td>2021-03-29 17:16:23</td>\n",
              "      <td>Ronin Zero 🤖🦁</td>\n",
              "      <td>False</td>\n",
              "      <td>@WWE @FOXSports @TherealRVD Well deserved</td>\n",
              "      <td>0</td>\n",
              "      <td>0</td>\n",
              "      <td>Lion's Den aka Pomona, Cali</td>\n",
              "      <td>well deserved</td>\n",
              "      <td>Neutral</td>\n",
              "    </tr>\n",
              "    <tr>\n",
              "      <th>2</th>\n",
              "      <td>2021-03-29 17:16:22</td>\n",
              "      <td>PWStream</td>\n",
              "      <td>False</td>\n",
              "      <td>RVD Reveals How He Found Out About WWE Hall Of...</td>\n",
              "      <td>0</td>\n",
              "      <td>0</td>\n",
              "      <td>United States</td>\n",
              "      <td>rvd reveals how he found out about wwe hall of...</td>\n",
              "      <td>Neutral</td>\n",
              "    </tr>\n",
              "    <tr>\n",
              "      <th>3</th>\n",
              "      <td>2021-03-29 17:16:21</td>\n",
              "      <td>👹👹</td>\n",
              "      <td>False</td>\n",
              "      <td>OMG THIS MF BE SPITTING FACTS BEEN SAYING THAT...</td>\n",
              "      <td>0</td>\n",
              "      <td>0</td>\n",
              "      <td></td>\n",
              "      <td>omg this mf be spitting facts been saying that...</td>\n",
              "      <td>Neutral</td>\n",
              "    </tr>\n",
              "    <tr>\n",
              "      <th>4</th>\n",
              "      <td>2021-03-29 17:16:21</td>\n",
              "      <td>Shaun</td>\n",
              "      <td>False</td>\n",
              "      <td>@BellasflairK2 And also, when your talking abo...</td>\n",
              "      <td>0</td>\n",
              "      <td>0</td>\n",
              "      <td>Little Rock</td>\n",
              "      <td>and also when your talking about the greatest ...</td>\n",
              "      <td>Positive</td>\n",
              "    </tr>\n",
              "  </tbody>\n",
              "</table>\n",
              "</div>"
            ],
            "text/plain": [
              "                  Date  ... Sentiment\n",
              "0  2021-03-29 17:16:24  ...   Neutral\n",
              "1  2021-03-29 17:16:23  ...   Neutral\n",
              "2  2021-03-29 17:16:22  ...   Neutral\n",
              "3  2021-03-29 17:16:21  ...   Neutral\n",
              "4  2021-03-29 17:16:21  ...  Positive\n",
              "\n",
              "[5 rows x 9 columns]"
            ]
          },
          "metadata": {
            "tags": []
          },
          "execution_count": 327
        }
      ]
    },
    {
      "cell_type": "code",
      "metadata": {
        "colab": {
          "base_uri": "https://localhost:8080/"
        },
        "id": "pS6GP6O2CJRQ",
        "outputId": "5695bd39-3586-47de-8608-ee6e2d8ed3b6"
      },
      "source": [
        "# Check Summary of Random Record\n",
        "n = 15\n",
        "print(\"Original tweet:\\n\",df['Tweet'][n])\n",
        "print()\n",
        "print(\"Clean tweet:\\n\",df['clean_tweet'][n])\n",
        "print()\n",
        "print(\"Sentiment of the tweet:\\n\",df['Sentiment'][n])"
      ],
      "execution_count": null,
      "outputs": [
        {
          "output_type": "stream",
          "text": [
            "Original tweet:\n",
            " Rob Van Dam? “Mr. Monday Night?” The Whole Fricken Show??? #WWE #HOF\n",
            "\n",
            "Clean tweet:\n",
            " rob van dam mr monday night the whole fricken show wwe hof\n",
            "\n",
            "Sentiment of the tweet:\n",
            " Positive\n"
          ],
          "name": "stdout"
        }
      ]
    },
    {
      "cell_type": "code",
      "metadata": {
        "colab": {
          "base_uri": "https://localhost:8080/"
        },
        "id": "7pErhSbOCJRQ",
        "outputId": "d05c5d80-3155-470d-9922-78b1b4f549a2"
      },
      "source": [
        "# Overall Summary\n",
        "\n",
        "print(\"Total Tweets Extracted for Topic : {} are : {}\".format(Topic,len(df.Tweet)))\n",
        "print(\"Total Positive Tweets are : {}\".format(len(df[df[\"Sentiment\"]==\"Positive\"])))\n",
        "print(\"Total Negative Tweets are : {}\".format(len(df[df[\"Sentiment\"]==\"Negative\"])))\n",
        "print(\"Total Neutral Tweets are : {}\".format(len(df[df[\"Sentiment\"]==\"Neutral\"])))"
      ],
      "execution_count": null,
      "outputs": [
        {
          "output_type": "stream",
          "text": [
            "Total Tweets Extracted for Topic : ['WWE'] are : 101\n",
            "Total Positive Tweets are : 46\n",
            "Total Negative Tweets are : 10\n",
            "Total Neutral Tweets are : 45\n"
          ],
          "name": "stdout"
        }
      ]
    },
    {
      "cell_type": "code",
      "metadata": {
        "colab": {
          "base_uri": "https://localhost:8080/"
        },
        "id": "ziQglQ2tCJRR",
        "outputId": "16aeb078-bad1-4fd0-9c37-60e06379797e"
      },
      "source": [
        "df[\"Sentiment\"].value_counts()"
      ],
      "execution_count": null,
      "outputs": [
        {
          "output_type": "execute_result",
          "data": {
            "text/plain": [
              "Positive    46\n",
              "Neutral     45\n",
              "Negative    10\n",
              "Name: Sentiment, dtype: int64"
            ]
          },
          "metadata": {
            "tags": []
          },
          "execution_count": 330
        }
      ]
    },
    {
      "cell_type": "code",
      "metadata": {
        "colab": {
          "base_uri": "https://localhost:8080/",
          "height": 367
        },
        "id": "08m3djZ8CJRR",
        "outputId": "62df0641-883b-4a36-c19e-c39c0883f84c"
      },
      "source": [
        "#sns.countplot(df[\"Sentiment\"],facecolor=(0, 0, 0, 0),linewidth=5,edgecolor=sns.color_palette(\"dark\", 3))\n",
        "sns.countplot(df[\"Sentiment\"])\n",
        "plt.title(\"Summary of Counts for Total tweets\")"
      ],
      "execution_count": null,
      "outputs": [
        {
          "output_type": "stream",
          "text": [
            "/usr/local/lib/python3.7/dist-packages/seaborn/_decorators.py:43: FutureWarning: Pass the following variable as a keyword arg: x. From version 0.12, the only valid positional argument will be `data`, and passing other arguments without an explicit keyword will result in an error or misinterpretation.\n",
            "  FutureWarning\n"
          ],
          "name": "stderr"
        },
        {
          "output_type": "execute_result",
          "data": {
            "text/plain": [
              "Text(0.5, 1.0, 'Summary of Counts for Total tweets')"
            ]
          },
          "metadata": {
            "tags": []
          },
          "execution_count": 331
        },
        {
          "output_type": "display_data",
          "data": {
            "image/png": "[encoded data removed]",
            "text/plain": [
              "<Figure size 432x288 with 1 Axes>"
            ]
          },
          "metadata": {
            "tags": [],
            "needs_background": "light"
          }
        }
      ]
    },
    {
      "cell_type": "code",
      "metadata": {
        "colab": {
          "base_uri": "https://localhost:8080/",
          "height": 248
        },
        "id": "CMurzr1tCJRR",
        "outputId": "ff7eae2d-b5f0-4815-cf21-9a8a7dcad8af"
      },
      "source": [
        "# Piechart \n",
        "#string, used to label the wedges with their numeric value. The label will be placed inside the wedge. The format string will be fmt%pct.\n",
        "\n",
        "a=len(df[df[\"Sentiment\"]==\"Positive\"])\n",
        "b=len(df[df[\"Sentiment\"]==\"Negative\"])\n",
        "c=len(df[df[\"Sentiment\"]==\"Neutral\"])\n",
        "d=np.array([a,b,c])\n",
        "explode = (0.1, 0.0, 0.1)\n",
        "plt.pie(d,shadow=True,explode=explode,labels=[\"Positive\",\"Negative\",\"Neutral\"],autopct='%1.2f%%');"
      ],
      "execution_count": null,
      "outputs": [
        {
          "output_type": "display_data",
          "data": {
            "image/png": "[encoded data removed]",
            "text/plain": [
              "<Figure size 432x288 with 1 Axes>"
            ]
          },
          "metadata": {
            "tags": []
          }
        }
      ]
    },
    {
      "cell_type": "code",
      "metadata": {
        "colab": {
          "base_uri": "https://localhost:8080/",
          "height": 367
        },
        "id": "QW4VlVJXCJRS",
        "outputId": "eec0f365-6abc-43ce-e6cb-808427f567d5"
      },
      "source": [
        "sns.countplot(df[\"Sentiment\"],hue=df.IsVerified)\n",
        "plt.title(\"Summary of Counts for Total tweets,Distributed by if the User has a verified Account or not\")"
      ],
      "execution_count": null,
      "outputs": [
        {
          "output_type": "stream",
          "text": [
            "/usr/local/lib/python3.7/dist-packages/seaborn/_decorators.py:43: FutureWarning: Pass the following variable as a keyword arg: x. From version 0.12, the only valid positional argument will be `data`, and passing other arguments without an explicit keyword will result in an error or misinterpretation.\n",
            "  FutureWarning\n"
          ],
          "name": "stderr"
        },
        {
          "output_type": "execute_result",
          "data": {
            "text/plain": [
              "Text(0.5, 1.0, 'Summary of Counts for Total tweets,Distributed by if the User has a verified Account or not')"
            ]
          },
          "metadata": {
            "tags": []
          },
          "execution_count": 333
        },
        {
          "output_type": "display_data",
          "data": {
            "image/png": "[encoded data removed]",
            "text/plain": [
              "<Figure size 432x288 with 1 Axes>"
            ]
          },
          "metadata": {
            "tags": [],
            "needs_background": "light"
          }
        }
      ]
    },
    {
      "cell_type": "code",
      "metadata": {
        "id": "c2-SLFdwCJRT"
      },
      "source": [],
      "execution_count": null,
      "outputs": []
    }
  ]
}